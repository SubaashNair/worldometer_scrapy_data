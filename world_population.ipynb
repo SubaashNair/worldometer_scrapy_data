{
 "cells": [
  {
   "cell_type": "code",
   "execution_count": 1,
   "id": "initial_id",
   "metadata": {
    "collapsed": true,
    "ExecuteTime": {
     "end_time": "2024-07-31T08:55:29.456998Z",
     "start_time": "2024-07-31T08:55:28.093112Z"
    }
   },
   "outputs": [],
   "source": [
    "import pandas as pd"
   ]
  },
  {
   "cell_type": "code",
   "execution_count": 13,
   "outputs": [],
   "source": [
    "df = pd.read_csv('.///spider_tut/population.csv')"
   ],
   "metadata": {
    "collapsed": false,
    "ExecuteTime": {
     "end_time": "2024-07-31T08:56:36.645123Z",
     "start_time": "2024-07-31T08:56:36.628545Z"
    }
   },
   "id": "e2081c0f08d3f77d"
  },
  {
   "cell_type": "code",
   "execution_count": 14,
   "outputs": [
    {
     "data": {
      "text/plain": "     year population yearly_change_pct yearly_change  migrants median_age  \\\n0  2024.0        NaN           -0.03 %      -492,570  -310,866       39.5   \n1  2023.0        NaN           -0.02 %      -215,985  -310,220       39.0   \n2  2022.0        NaN            0.00 %        -6,128  -311,380       38.5   \n3  2020.0        NaN            0.22 %     3,065,750   -33,649       37.4   \n4  2015.0        NaN            0.67 %     9,104,816  -155,379       35.6   \n\n  fertility_rate density_p_km2 urban_pop_pct    urban_pop  \\\n0           1.21           152        66.1 %  941,865,672   \n1           1.19           152        65.0 %  926,375,811   \n2           1.18           152        63.8 %  910,080,750   \n3           1.28           152        61.4 %  875,075,919   \n4           1.67           148        55.6 %  775,352,918   \n\n  share_of_world_pop_pct      world_pop  global_rank  \n0                17.55 %  8,118,835,999          2.0  \n1                17.72 %  8,045,311,447          2.0  \n2                17.88 %  7,975,105,156          1.0  \n3                18.17 %  7,840,952,880          1.0  \n4                18.77 %  7,426,597,537          1.0  ",
      "text/html": "<div>\n<style scoped>\n    .dataframe tbody tr th:only-of-type {\n        vertical-align: middle;\n    }\n\n    .dataframe tbody tr th {\n        vertical-align: top;\n    }\n\n    .dataframe thead th {\n        text-align: right;\n    }\n</style>\n<table border=\"1\" class=\"dataframe\">\n  <thead>\n    <tr style=\"text-align: right;\">\n      <th></th>\n      <th>year</th>\n      <th>population</th>\n      <th>yearly_change_pct</th>\n      <th>yearly_change</th>\n      <th>migrants</th>\n      <th>median_age</th>\n      <th>fertility_rate</th>\n      <th>density_p_km2</th>\n      <th>urban_pop_pct</th>\n      <th>urban_pop</th>\n      <th>share_of_world_pop_pct</th>\n      <th>world_pop</th>\n      <th>global_rank</th>\n    </tr>\n  </thead>\n  <tbody>\n    <tr>\n      <th>0</th>\n      <td>2024.0</td>\n      <td>NaN</td>\n      <td>-0.03 %</td>\n      <td>-492,570</td>\n      <td>-310,866</td>\n      <td>39.5</td>\n      <td>1.21</td>\n      <td>152</td>\n      <td>66.1 %</td>\n      <td>941,865,672</td>\n      <td>17.55 %</td>\n      <td>8,118,835,999</td>\n      <td>2.0</td>\n    </tr>\n    <tr>\n      <th>1</th>\n      <td>2023.0</td>\n      <td>NaN</td>\n      <td>-0.02 %</td>\n      <td>-215,985</td>\n      <td>-310,220</td>\n      <td>39.0</td>\n      <td>1.19</td>\n      <td>152</td>\n      <td>65.0 %</td>\n      <td>926,375,811</td>\n      <td>17.72 %</td>\n      <td>8,045,311,447</td>\n      <td>2.0</td>\n    </tr>\n    <tr>\n      <th>2</th>\n      <td>2022.0</td>\n      <td>NaN</td>\n      <td>0.00 %</td>\n      <td>-6,128</td>\n      <td>-311,380</td>\n      <td>38.5</td>\n      <td>1.18</td>\n      <td>152</td>\n      <td>63.8 %</td>\n      <td>910,080,750</td>\n      <td>17.88 %</td>\n      <td>7,975,105,156</td>\n      <td>1.0</td>\n    </tr>\n    <tr>\n      <th>3</th>\n      <td>2020.0</td>\n      <td>NaN</td>\n      <td>0.22 %</td>\n      <td>3,065,750</td>\n      <td>-33,649</td>\n      <td>37.4</td>\n      <td>1.28</td>\n      <td>152</td>\n      <td>61.4 %</td>\n      <td>875,075,919</td>\n      <td>18.17 %</td>\n      <td>7,840,952,880</td>\n      <td>1.0</td>\n    </tr>\n    <tr>\n      <th>4</th>\n      <td>2015.0</td>\n      <td>NaN</td>\n      <td>0.67 %</td>\n      <td>9,104,816</td>\n      <td>-155,379</td>\n      <td>35.6</td>\n      <td>1.67</td>\n      <td>148</td>\n      <td>55.6 %</td>\n      <td>775,352,918</td>\n      <td>18.77 %</td>\n      <td>7,426,597,537</td>\n      <td>1.0</td>\n    </tr>\n  </tbody>\n</table>\n</div>"
     },
     "execution_count": 14,
     "metadata": {},
     "output_type": "execute_result"
    }
   ],
   "source": [
    "df.head()"
   ],
   "metadata": {
    "collapsed": false,
    "ExecuteTime": {
     "end_time": "2024-07-31T08:56:43.850369Z",
     "start_time": "2024-07-31T08:56:43.842183Z"
    }
   },
   "id": "11b5d6c24df113d"
  },
  {
   "cell_type": "code",
   "execution_count": 15,
   "outputs": [],
   "source": [
    "import json"
   ],
   "metadata": {
    "collapsed": false,
    "ExecuteTime": {
     "end_time": "2024-07-31T08:56:58.925629Z",
     "start_time": "2024-07-31T08:56:58.918250Z"
    }
   },
   "id": "91e454c2c66e8772"
  },
  {
   "cell_type": "code",
   "execution_count": 17,
   "outputs": [],
   "source": [
    "df = pd.read_json('.///spider_tut/population.json')"
   ],
   "metadata": {
    "collapsed": false,
    "ExecuteTime": {
     "end_time": "2024-07-31T08:57:47.149514Z",
     "start_time": "2024-07-31T08:57:47.092110Z"
    }
   },
   "id": "fdda21beeee9f116"
  },
  {
   "cell_type": "code",
   "execution_count": 18,
   "outputs": [
    {
     "data": {
      "text/plain": "     year population yearly_change_pct yearly_change migrants median_age  \\\n0  2024.0       None            2.53 %       730,268    6,000       18.1   \n1  2023.0       None            2.53 %       712,492    6,000       17.9   \n2  2022.0       None            2.48 %       682,293    6,000       17.8   \n3  2020.0       None            2.54 %       664,239  -12,301       17.5   \n4  2015.0       None            2.24 %       495,340  -21,498       16.8   \n\n  fertility_rate density_p_km2 urban_pop_pct   urban_pop  \\\n0           4.23            93        52.3 %  15,492,243   \n1           4.29            91        51.9 %  14,978,681   \n2           4.34            89        51.4 %  14,480,845   \n3           4.47            84        50.5 %  13,532,312   \n4           4.81            74        48.4 %  11,425,679   \n\n  share_of_world_pop_pct      world_pop  global_rank  \n0                 0.36 %  8,118,835,999         51.0  \n1                 0.36 %  8,045,311,447         51.0  \n2                 0.35 %  7,975,105,156         52.0  \n3                 0.34 %  7,840,952,880         52.0  \n4                 0.32 %  7,426,597,537         54.0  ",
      "text/html": "<div>\n<style scoped>\n    .dataframe tbody tr th:only-of-type {\n        vertical-align: middle;\n    }\n\n    .dataframe tbody tr th {\n        vertical-align: top;\n    }\n\n    .dataframe thead th {\n        text-align: right;\n    }\n</style>\n<table border=\"1\" class=\"dataframe\">\n  <thead>\n    <tr style=\"text-align: right;\">\n      <th></th>\n      <th>year</th>\n      <th>population</th>\n      <th>yearly_change_pct</th>\n      <th>yearly_change</th>\n      <th>migrants</th>\n      <th>median_age</th>\n      <th>fertility_rate</th>\n      <th>density_p_km2</th>\n      <th>urban_pop_pct</th>\n      <th>urban_pop</th>\n      <th>share_of_world_pop_pct</th>\n      <th>world_pop</th>\n      <th>global_rank</th>\n    </tr>\n  </thead>\n  <tbody>\n    <tr>\n      <th>0</th>\n      <td>2024.0</td>\n      <td>None</td>\n      <td>2.53 %</td>\n      <td>730,268</td>\n      <td>6,000</td>\n      <td>18.1</td>\n      <td>4.23</td>\n      <td>93</td>\n      <td>52.3 %</td>\n      <td>15,492,243</td>\n      <td>0.36 %</td>\n      <td>8,118,835,999</td>\n      <td>51.0</td>\n    </tr>\n    <tr>\n      <th>1</th>\n      <td>2023.0</td>\n      <td>None</td>\n      <td>2.53 %</td>\n      <td>712,492</td>\n      <td>6,000</td>\n      <td>17.9</td>\n      <td>4.29</td>\n      <td>91</td>\n      <td>51.9 %</td>\n      <td>14,978,681</td>\n      <td>0.36 %</td>\n      <td>8,045,311,447</td>\n      <td>51.0</td>\n    </tr>\n    <tr>\n      <th>2</th>\n      <td>2022.0</td>\n      <td>None</td>\n      <td>2.48 %</td>\n      <td>682,293</td>\n      <td>6,000</td>\n      <td>17.8</td>\n      <td>4.34</td>\n      <td>89</td>\n      <td>51.4 %</td>\n      <td>14,480,845</td>\n      <td>0.35 %</td>\n      <td>7,975,105,156</td>\n      <td>52.0</td>\n    </tr>\n    <tr>\n      <th>3</th>\n      <td>2020.0</td>\n      <td>None</td>\n      <td>2.54 %</td>\n      <td>664,239</td>\n      <td>-12,301</td>\n      <td>17.5</td>\n      <td>4.47</td>\n      <td>84</td>\n      <td>50.5 %</td>\n      <td>13,532,312</td>\n      <td>0.34 %</td>\n      <td>7,840,952,880</td>\n      <td>52.0</td>\n    </tr>\n    <tr>\n      <th>4</th>\n      <td>2015.0</td>\n      <td>None</td>\n      <td>2.24 %</td>\n      <td>495,340</td>\n      <td>-21,498</td>\n      <td>16.8</td>\n      <td>4.81</td>\n      <td>74</td>\n      <td>48.4 %</td>\n      <td>11,425,679</td>\n      <td>0.32 %</td>\n      <td>7,426,597,537</td>\n      <td>54.0</td>\n    </tr>\n  </tbody>\n</table>\n</div>"
     },
     "execution_count": 18,
     "metadata": {},
     "output_type": "execute_result"
    }
   ],
   "source": [
    "df.head()"
   ],
   "metadata": {
    "collapsed": false,
    "ExecuteTime": {
     "end_time": "2024-07-31T08:57:50.712269Z",
     "start_time": "2024-07-31T08:57:50.705956Z"
    }
   },
   "id": "9dee38699a9304e0"
  },
  {
   "cell_type": "code",
   "execution_count": null,
   "outputs": [],
   "source": [],
   "metadata": {
    "collapsed": false
   },
   "id": "4fef86267464fb48"
  }
 ],
 "metadata": {
  "kernelspec": {
   "display_name": "Python 3",
   "language": "python",
   "name": "python3"
  },
  "language_info": {
   "codemirror_mode": {
    "name": "ipython",
    "version": 2
   },
   "file_extension": ".py",
   "mimetype": "text/x-python",
   "name": "python",
   "nbconvert_exporter": "python",
   "pygments_lexer": "ipython2",
   "version": "2.7.6"
  }
 },
 "nbformat": 4,
 "nbformat_minor": 5
}
