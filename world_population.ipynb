{
 "cells": [
  {
   "cell_type": "code",
   "execution_count": 32,
   "id": "initial_id",
   "metadata": {
    "collapsed": true,
    "ExecuteTime": {
     "end_time": "2024-07-31T09:51:44.982326Z",
     "start_time": "2024-07-31T09:51:44.947019Z"
    }
   },
   "outputs": [],
   "source": [
    "import pandas as pd"
   ]
  },
  {
   "cell_type": "code",
   "execution_count": 33,
   "outputs": [],
   "source": [
    "df2 = pd.read_csv('spider_tut/worldometer_data.csv')"
   ],
   "metadata": {
    "collapsed": false,
    "ExecuteTime": {
     "end_time": "2024-07-31T09:51:45.118464Z",
     "start_time": "2024-07-31T09:51:45.107688Z"
    }
   },
   "id": "e2081c0f08d3f77d"
  },
  {
   "cell_type": "code",
   "execution_count": 34,
   "outputs": [
    {
     "data": {
      "text/plain": "country                     0\nyear                        7\npopulation                  7\nyearly_change_pct           7\nyearly_change               7\nmigrants                    7\nmedian_age                  7\nfertility_rate              7\ndensity_p_km2               7\nurban_pop_pct               7\nurban_pop                   7\nshare_of_world_pop_pct    721\nworld_pop                 721\nglobal_rank               721\ndtype: int64"
     },
     "execution_count": 34,
     "metadata": {},
     "output_type": "execute_result"
    }
   ],
   "source": [
    "df2.isna().sum()"
   ],
   "metadata": {
    "collapsed": false,
    "ExecuteTime": {
     "end_time": "2024-07-31T09:51:45.308606Z",
     "start_time": "2024-07-31T09:51:45.303186Z"
    }
   },
   "id": "11b5d6c24df113d"
  },
  {
   "cell_type": "code",
   "execution_count": 35,
   "outputs": [
    {
     "data": {
      "text/plain": "(4104, 14)"
     },
     "execution_count": 35,
     "metadata": {},
     "output_type": "execute_result"
    }
   ],
   "source": [
    "df2.shape"
   ],
   "metadata": {
    "collapsed": false,
    "ExecuteTime": {
     "end_time": "2024-07-31T09:51:45.468749Z",
     "start_time": "2024-07-31T09:51:45.465901Z"
    }
   },
   "id": "f1ea4f616bdca3a3"
  },
  {
   "cell_type": "code",
   "execution_count": 36,
   "outputs": [],
   "source": [
    "import json"
   ],
   "metadata": {
    "collapsed": false,
    "ExecuteTime": {
     "end_time": "2024-07-31T09:51:45.653997Z",
     "start_time": "2024-07-31T09:51:45.649912Z"
    }
   },
   "id": "91e454c2c66e8772"
  },
  {
   "cell_type": "markdown",
   "source": [],
   "metadata": {
    "collapsed": false
   },
   "id": "54f1cd38d71cdc39"
  },
  {
   "cell_type": "code",
   "execution_count": 39,
   "outputs": [],
   "source": [
    "df = pd.read_json('spider_tut/worldometer_data.json')"
   ],
   "metadata": {
    "collapsed": false,
    "ExecuteTime": {
     "end_time": "2024-07-31T09:51:56.173647Z",
     "start_time": "2024-07-31T09:51:56.149661Z"
    }
   },
   "id": "fdda21beeee9f116"
  },
  {
   "cell_type": "code",
   "execution_count": 40,
   "outputs": [
    {
     "data": {
      "text/plain": "  country    year     population yearly_change_pct yearly_change  migrants  \\\n0   India  2024.0  1,441,719,852            0.92 %    13,092,189  -486,784   \n1   India  2023.0  1,428,627,663            0.81 %    11,454,490  -486,136   \n2   India  2022.0  1,417,173,173            0.68 %     9,609,331  -487,303   \n3   India  2020.0  1,396,387,127            0.96 %    13,275,077   -34,772   \n4   India  2015.0  1,322,866,505            1.29 %    16,450,577  -475,094   \n\n  median_age fertility_rate density_p_km2 urban_pop_pct    urban_pop  \\\n0       28.6           1.98           485        36.8 %  530,387,142   \n1       28.2           2.00           481        36.3 %  518,239,122   \n2       27.9           2.01           477        35.7 %  506,304,869   \n3       27.3           2.05           470        34.6 %  483,098,640   \n4       25.5           2.29           445        32.4 %  429,069,459   \n\n  share_of_world_pop_pct      world_pop  global_rank  \n0                17.76 %  8,118,835,999          1.0  \n1                17.76 %  8,045,311,447          1.0  \n2                17.77 %  7,975,105,156          2.0  \n3                17.81 %  7,840,952,880          2.0  \n4                17.81 %  7,426,597,537          2.0  ",
      "text/html": "<div>\n<style scoped>\n    .dataframe tbody tr th:only-of-type {\n        vertical-align: middle;\n    }\n\n    .dataframe tbody tr th {\n        vertical-align: top;\n    }\n\n    .dataframe thead th {\n        text-align: right;\n    }\n</style>\n<table border=\"1\" class=\"dataframe\">\n  <thead>\n    <tr style=\"text-align: right;\">\n      <th></th>\n      <th>country</th>\n      <th>year</th>\n      <th>population</th>\n      <th>yearly_change_pct</th>\n      <th>yearly_change</th>\n      <th>migrants</th>\n      <th>median_age</th>\n      <th>fertility_rate</th>\n      <th>density_p_km2</th>\n      <th>urban_pop_pct</th>\n      <th>urban_pop</th>\n      <th>share_of_world_pop_pct</th>\n      <th>world_pop</th>\n      <th>global_rank</th>\n    </tr>\n  </thead>\n  <tbody>\n    <tr>\n      <th>0</th>\n      <td>India</td>\n      <td>2024.0</td>\n      <td>1,441,719,852</td>\n      <td>0.92 %</td>\n      <td>13,092,189</td>\n      <td>-486,784</td>\n      <td>28.6</td>\n      <td>1.98</td>\n      <td>485</td>\n      <td>36.8 %</td>\n      <td>530,387,142</td>\n      <td>17.76 %</td>\n      <td>8,118,835,999</td>\n      <td>1.0</td>\n    </tr>\n    <tr>\n      <th>1</th>\n      <td>India</td>\n      <td>2023.0</td>\n      <td>1,428,627,663</td>\n      <td>0.81 %</td>\n      <td>11,454,490</td>\n      <td>-486,136</td>\n      <td>28.2</td>\n      <td>2.00</td>\n      <td>481</td>\n      <td>36.3 %</td>\n      <td>518,239,122</td>\n      <td>17.76 %</td>\n      <td>8,045,311,447</td>\n      <td>1.0</td>\n    </tr>\n    <tr>\n      <th>2</th>\n      <td>India</td>\n      <td>2022.0</td>\n      <td>1,417,173,173</td>\n      <td>0.68 %</td>\n      <td>9,609,331</td>\n      <td>-487,303</td>\n      <td>27.9</td>\n      <td>2.01</td>\n      <td>477</td>\n      <td>35.7 %</td>\n      <td>506,304,869</td>\n      <td>17.77 %</td>\n      <td>7,975,105,156</td>\n      <td>2.0</td>\n    </tr>\n    <tr>\n      <th>3</th>\n      <td>India</td>\n      <td>2020.0</td>\n      <td>1,396,387,127</td>\n      <td>0.96 %</td>\n      <td>13,275,077</td>\n      <td>-34,772</td>\n      <td>27.3</td>\n      <td>2.05</td>\n      <td>470</td>\n      <td>34.6 %</td>\n      <td>483,098,640</td>\n      <td>17.81 %</td>\n      <td>7,840,952,880</td>\n      <td>2.0</td>\n    </tr>\n    <tr>\n      <th>4</th>\n      <td>India</td>\n      <td>2015.0</td>\n      <td>1,322,866,505</td>\n      <td>1.29 %</td>\n      <td>16,450,577</td>\n      <td>-475,094</td>\n      <td>25.5</td>\n      <td>2.29</td>\n      <td>445</td>\n      <td>32.4 %</td>\n      <td>429,069,459</td>\n      <td>17.81 %</td>\n      <td>7,426,597,537</td>\n      <td>2.0</td>\n    </tr>\n  </tbody>\n</table>\n</div>"
     },
     "execution_count": 40,
     "metadata": {},
     "output_type": "execute_result"
    }
   ],
   "source": [
    "df.head()"
   ],
   "metadata": {
    "collapsed": false,
    "ExecuteTime": {
     "end_time": "2024-07-31T09:51:56.530842Z",
     "start_time": "2024-07-31T09:51:56.527872Z"
    }
   },
   "id": "9dee38699a9304e0"
  },
  {
   "cell_type": "code",
   "execution_count": 41,
   "outputs": [
    {
     "data": {
      "text/plain": "country                     0\nyear                        7\npopulation                  7\nyearly_change_pct           7\nyearly_change               7\nmigrants                    7\nmedian_age                  7\nfertility_rate              7\ndensity_p_km2               7\nurban_pop_pct               7\nurban_pop                   7\nshare_of_world_pop_pct    721\nworld_pop                 721\nglobal_rank               721\ndtype: int64"
     },
     "execution_count": 41,
     "metadata": {},
     "output_type": "execute_result"
    }
   ],
   "source": [
    "df.isna().sum()"
   ],
   "metadata": {
    "collapsed": false,
    "ExecuteTime": {
     "end_time": "2024-07-31T09:52:02.674643Z",
     "start_time": "2024-07-31T09:52:02.667653Z"
    }
   },
   "id": "4fef86267464fb48"
  },
  {
   "cell_type": "code",
   "execution_count": null,
   "outputs": [],
   "source": [],
   "metadata": {
    "collapsed": false
   },
   "id": "4a5328e497eb351f"
  }
 ],
 "metadata": {
  "kernelspec": {
   "display_name": "Python 3",
   "language": "python",
   "name": "python3"
  },
  "language_info": {
   "codemirror_mode": {
    "name": "ipython",
    "version": 2
   },
   "file_extension": ".py",
   "mimetype": "text/x-python",
   "name": "python",
   "nbconvert_exporter": "python",
   "pygments_lexer": "ipython2",
   "version": "2.7.6"
  }
 },
 "nbformat": 4,
 "nbformat_minor": 5
}
